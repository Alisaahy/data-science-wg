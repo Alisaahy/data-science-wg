{
 "cells": [
  {
   "cell_type": "code",
   "execution_count": 4,
   "metadata": {
    "collapsed": false
   },
   "outputs": [],
   "source": [
    "from __future__ import division\n",
    "import pandas as pd\n",
    "import numpy as np\n",
    "import scipy as sp\n",
    "import matplotlib.pyplot as plt\n",
    "# import matplotlib as mpl\n",
    "import seaborn as sns"
   ]
  },
  {
   "cell_type": "code",
   "execution_count": 2,
   "metadata": {
    "collapsed": true
   },
   "outputs": [],
   "source": [
    "%load_ext autoreload\n",
    "%autoreload 2\n",
    "%matplotlib inline\n",
    "%config InlineBackend.figure_format='retina'"
   ]
  },
  {
   "cell_type": "code",
   "execution_count": 3,
   "metadata": {
    "collapsed": true
   },
   "outputs": [],
   "source": [
    "pd.set_option('display.max_columns', 200)\n",
    "pd.set_option('display.max_rows', 200)"
   ]
  },
  {
   "cell_type": "markdown",
   "metadata": {},
   "source": [
    "# Sample data"
   ]
  },
  {
   "cell_type": "code",
   "execution_count": 18,
   "metadata": {
    "collapsed": false
   },
   "outputs": [],
   "source": [
    "df = pd.read_csv('../SF_311_Data-Analysis/data/cases_sample.csv', header=0, index_col=3, parse_dates=[4, 5, 6])"
   ]
  },
  {
   "cell_type": "code",
   "execution_count": 19,
   "metadata": {
    "collapsed": false
   },
   "outputs": [],
   "source": [
    "df = df.drop(['Unnamed: 0', 'X.1', 'X'], axis=1)"
   ]
  },
  {
   "cell_type": "code",
   "execution_count": 20,
   "metadata": {
    "collapsed": false
   },
   "outputs": [
    {
     "name": "stdout",
     "output_type": "stream",
     "text": [
      "2008-07-01 07:27:00\n",
      "2016-01-27 16:51:21\n"
     ]
    }
   ],
   "source": [
    "print(df['Opened'].min())\n",
    "print(df['Opened'].max())"
   ]
  },
  {
   "cell_type": "code",
   "execution_count": 21,
   "metadata": {
    "collapsed": false
   },
   "outputs": [
    {
     "data": {
      "text/plain": [
       "(4985, 20)"
      ]
     },
     "execution_count": 21,
     "metadata": {},
     "output_type": "execute_result"
    }
   ],
   "source": [
    "df.shape"
   ]
  },
  {
   "cell_type": "code",
   "execution_count": 14,
   "metadata": {
    "collapsed": false
   },
   "outputs": [
    {
     "data": {
      "text/html": [
       "<div>\n",
       "<table border=\"1\" class=\"dataframe\">\n",
       "  <thead>\n",
       "    <tr style=\"text-align: right;\">\n",
       "      <th></th>\n",
       "      <th>Opened</th>\n",
       "      <th>Closed</th>\n",
       "      <th>Updated</th>\n",
       "      <th>Status</th>\n",
       "      <th>Status.Notes</th>\n",
       "      <th>Responsible.Agency</th>\n",
       "      <th>Category</th>\n",
       "      <th>Request.Type</th>\n",
       "      <th>Request.Details</th>\n",
       "      <th>Address</th>\n",
       "      <th>Supervisor.District</th>\n",
       "      <th>Neighborhood</th>\n",
       "      <th>Point</th>\n",
       "      <th>Source</th>\n",
       "      <th>Media.URL</th>\n",
       "      <th>Lat</th>\n",
       "      <th>Long</th>\n",
       "      <th>Census.Block</th>\n",
       "      <th>Zip</th>\n",
       "      <th>Map.Url</th>\n",
       "    </tr>\n",
       "    <tr>\n",
       "      <th>CaseID</th>\n",
       "      <th></th>\n",
       "      <th></th>\n",
       "      <th></th>\n",
       "      <th></th>\n",
       "      <th></th>\n",
       "      <th></th>\n",
       "      <th></th>\n",
       "      <th></th>\n",
       "      <th></th>\n",
       "      <th></th>\n",
       "      <th></th>\n",
       "      <th></th>\n",
       "      <th></th>\n",
       "      <th></th>\n",
       "      <th></th>\n",
       "      <th></th>\n",
       "      <th></th>\n",
       "      <th></th>\n",
       "      <th></th>\n",
       "      <th></th>\n",
       "    </tr>\n",
       "  </thead>\n",
       "  <tbody>\n",
       "    <tr>\n",
       "      <th>1757188</th>\n",
       "      <td>2012-12-04 15:21:00</td>\n",
       "      <td>2012-12-06 04:39:00</td>\n",
       "      <td>2012-12-06 04:39:00</td>\n",
       "      <td>Closed</td>\n",
       "      <td>NaN</td>\n",
       "      <td>DPW BSM Queue</td>\n",
       "      <td>Street Defects</td>\n",
       "      <td>Utility_Excavation</td>\n",
       "      <td>Utility_Excavation</td>\n",
       "      <td>2820 GREENWICH ST, SAN FRANCISCO, CA, 94123</td>\n",
       "      <td>2</td>\n",
       "      <td>Marina</td>\n",
       "      <td>(37.797838468, -122.446243791)</td>\n",
       "      <td>Voice In</td>\n",
       "      <td>NaN</td>\n",
       "      <td>37.797838</td>\n",
       "      <td>-122.446244</td>\n",
       "      <td>60750128003</td>\n",
       "      <td>94123</td>\n",
       "      <td>http://open.mapquestapi.com/staticmap/v4/getma...</td>\n",
       "    </tr>\n",
       "    <tr>\n",
       "      <th>1834805</th>\n",
       "      <td>2012-12-30 08:39:28</td>\n",
       "      <td>2013-01-15 07:15:14</td>\n",
       "      <td>2013-01-15 07:15:14</td>\n",
       "      <td>Closed</td>\n",
       "      <td>Case Resolved -</td>\n",
       "      <td>zzRPD Urban Forestry Queue - DO NOT USE</td>\n",
       "      <td>Rec and Park Requests</td>\n",
       "      <td>Park - UrbanForestry</td>\n",
       "      <td>Broken_Limb</td>\n",
       "      <td>Park Presidio Blvd, SAN FRANCISCO, CA, 94118</td>\n",
       "      <td>1</td>\n",
       "      <td>Inner Richmond</td>\n",
       "      <td>(37.780122585, -122.4722852)</td>\n",
       "      <td>Voice In</td>\n",
       "      <td>NaN</td>\n",
       "      <td>37.780123</td>\n",
       "      <td>-122.472285</td>\n",
       "      <td>60750476001</td>\n",
       "      <td>94118</td>\n",
       "      <td>http://open.mapquestapi.com/staticmap/v4/getma...</td>\n",
       "    </tr>\n",
       "    <tr>\n",
       "      <th>3016735</th>\n",
       "      <td>2013-11-01 16:41:00</td>\n",
       "      <td>2015-04-16 04:05:00</td>\n",
       "      <td>2015-04-16 04:05:00</td>\n",
       "      <td>Closed</td>\n",
       "      <td>Case Transferred - Per process - cases are clo...</td>\n",
       "      <td>311 Service Request Queue - Hold</td>\n",
       "      <td>311 External Request</td>\n",
       "      <td>Graffiti</td>\n",
       "      <td>Graffiti - USPS</td>\n",
       "      <td>Intersection of PACIFIC AVE and WEBSTER ST</td>\n",
       "      <td>2</td>\n",
       "      <td>Pacific Heights</td>\n",
       "      <td>(37.7935575960028, -122.433088431645)</td>\n",
       "      <td>Voice In</td>\n",
       "      <td>NaN</td>\n",
       "      <td>37.793558</td>\n",
       "      <td>-122.433088</td>\n",
       "      <td>60750132001</td>\n",
       "      <td>94123</td>\n",
       "      <td>http://open.mapquestapi.com/staticmap/v4/getma...</td>\n",
       "    </tr>\n",
       "    <tr>\n",
       "      <th>2643949</th>\n",
       "      <td>2013-07-26 09:57:04</td>\n",
       "      <td>2013-08-02 12:01:03</td>\n",
       "      <td>2013-08-02 12:01:03</td>\n",
       "      <td>Closed</td>\n",
       "      <td>DPT Abandoned Vehicles- Gone on arrival - 8-2-...</td>\n",
       "      <td>DPT Abandoned Vehicles Work Queue</td>\n",
       "      <td>Abandoned Vehicle</td>\n",
       "      <td>Abandoned Vehicle - Car2door</td>\n",
       "      <td>White - Honda - NA - 6LWD681</td>\n",
       "      <td>1735 17TH AVE, SAN FRANCISCO, CA, 94122</td>\n",
       "      <td>7</td>\n",
       "      <td>NaN</td>\n",
       "      <td>(37.755495625, -122.474745239)</td>\n",
       "      <td>Voice In</td>\n",
       "      <td>NaN</td>\n",
       "      <td>37.755496</td>\n",
       "      <td>-122.474745</td>\n",
       "      <td>60750303021</td>\n",
       "      <td>94116</td>\n",
       "      <td>http://open.mapquestapi.com/staticmap/v4/getma...</td>\n",
       "    </tr>\n",
       "    <tr>\n",
       "      <th>3600300</th>\n",
       "      <td>2014-04-30 14:52:36</td>\n",
       "      <td>2014-04-30 15:49:58</td>\n",
       "      <td>2014-04-30 15:49:58</td>\n",
       "      <td>Closed</td>\n",
       "      <td>Case Completed - resolved: WASTE NOT FOUND</td>\n",
       "      <td>Recology_Abandoned</td>\n",
       "      <td>Street and Sidewalk Cleaning</td>\n",
       "      <td>General Cleaning</td>\n",
       "      <td>Other Loose Garbage</td>\n",
       "      <td>549 LOMBARD ST, SAN FRANCISCO, CA, 94133</td>\n",
       "      <td>3</td>\n",
       "      <td>North Beach</td>\n",
       "      <td>(37.803081142313, -122.410557299769)</td>\n",
       "      <td>Voice In</td>\n",
       "      <td>NaN</td>\n",
       "      <td>37.803081</td>\n",
       "      <td>-122.410557</td>\n",
       "      <td>60750104002</td>\n",
       "      <td>94133</td>\n",
       "      <td>http://open.mapquestapi.com/staticmap/v4/getma...</td>\n",
       "    </tr>\n",
       "  </tbody>\n",
       "</table>\n",
       "</div>"
      ],
      "text/plain": [
       "                     Opened              Closed             Updated  Status  \\\n",
       "CaseID                                                                        \n",
       "1757188 2012-12-04 15:21:00 2012-12-06 04:39:00 2012-12-06 04:39:00  Closed   \n",
       "1834805 2012-12-30 08:39:28 2013-01-15 07:15:14 2013-01-15 07:15:14  Closed   \n",
       "3016735 2013-11-01 16:41:00 2015-04-16 04:05:00 2015-04-16 04:05:00  Closed   \n",
       "2643949 2013-07-26 09:57:04 2013-08-02 12:01:03 2013-08-02 12:01:03  Closed   \n",
       "3600300 2014-04-30 14:52:36 2014-04-30 15:49:58 2014-04-30 15:49:58  Closed   \n",
       "\n",
       "                                              Status.Notes  \\\n",
       "CaseID                                                       \n",
       "1757188                                                NaN   \n",
       "1834805                                    Case Resolved -   \n",
       "3016735  Case Transferred - Per process - cases are clo...   \n",
       "2643949  DPT Abandoned Vehicles- Gone on arrival - 8-2-...   \n",
       "3600300         Case Completed - resolved: WASTE NOT FOUND   \n",
       "\n",
       "                              Responsible.Agency  \\\n",
       "CaseID                                             \n",
       "1757188                            DPW BSM Queue   \n",
       "1834805  zzRPD Urban Forestry Queue - DO NOT USE   \n",
       "3016735         311 Service Request Queue - Hold   \n",
       "2643949        DPT Abandoned Vehicles Work Queue   \n",
       "3600300                       Recology_Abandoned   \n",
       "\n",
       "                             Category                  Request.Type  \\\n",
       "CaseID                                                                \n",
       "1757188                Street Defects            Utility_Excavation   \n",
       "1834805         Rec and Park Requests          Park - UrbanForestry   \n",
       "3016735          311 External Request                      Graffiti   \n",
       "2643949             Abandoned Vehicle  Abandoned Vehicle - Car2door   \n",
       "3600300  Street and Sidewalk Cleaning              General Cleaning   \n",
       "\n",
       "                      Request.Details  \\\n",
       "CaseID                                  \n",
       "1757188            Utility_Excavation   \n",
       "1834805                   Broken_Limb   \n",
       "3016735               Graffiti - USPS   \n",
       "2643949  White - Honda - NA - 6LWD681   \n",
       "3600300           Other Loose Garbage   \n",
       "\n",
       "                                              Address  Supervisor.District  \\\n",
       "CaseID                                                                       \n",
       "1757188   2820 GREENWICH ST, SAN FRANCISCO, CA, 94123                    2   \n",
       "1834805  Park Presidio Blvd, SAN FRANCISCO, CA, 94118                    1   \n",
       "3016735    Intersection of PACIFIC AVE and WEBSTER ST                    2   \n",
       "2643949       1735 17TH AVE, SAN FRANCISCO, CA, 94122                    7   \n",
       "3600300      549 LOMBARD ST, SAN FRANCISCO, CA, 94133                    3   \n",
       "\n",
       "            Neighborhood                                  Point    Source  \\\n",
       "CaseID                                                                      \n",
       "1757188           Marina         (37.797838468, -122.446243791)  Voice In   \n",
       "1834805   Inner Richmond           (37.780122585, -122.4722852)  Voice In   \n",
       "3016735  Pacific Heights  (37.7935575960028, -122.433088431645)  Voice In   \n",
       "2643949              NaN         (37.755495625, -122.474745239)  Voice In   \n",
       "3600300      North Beach   (37.803081142313, -122.410557299769)  Voice In   \n",
       "\n",
       "        Media.URL        Lat        Long  Census.Block    Zip  \\\n",
       "CaseID                                                          \n",
       "1757188       NaN  37.797838 -122.446244   60750128003  94123   \n",
       "1834805       NaN  37.780123 -122.472285   60750476001  94118   \n",
       "3016735       NaN  37.793558 -122.433088   60750132001  94123   \n",
       "2643949       NaN  37.755496 -122.474745   60750303021  94116   \n",
       "3600300       NaN  37.803081 -122.410557   60750104002  94133   \n",
       "\n",
       "                                                   Map.Url  \n",
       "CaseID                                                      \n",
       "1757188  http://open.mapquestapi.com/staticmap/v4/getma...  \n",
       "1834805  http://open.mapquestapi.com/staticmap/v4/getma...  \n",
       "3016735  http://open.mapquestapi.com/staticmap/v4/getma...  \n",
       "2643949  http://open.mapquestapi.com/staticmap/v4/getma...  \n",
       "3600300  http://open.mapquestapi.com/staticmap/v4/getma...  "
      ]
     },
     "execution_count": 14,
     "metadata": {},
     "output_type": "execute_result"
    }
   ],
   "source": [
    "df.head()"
   ]
  },
  {
   "cell_type": "code",
   "execution_count": 22,
   "metadata": {
    "collapsed": true
   },
   "outputs": [],
   "source": [
    "geo = pd.read_csv('../SF_311_Data-Analysis/data/Analysis_Neighborhoods.csv', header=0)\n",
    "geo = geo.rename(columns={'GEOID': 'Census.Block'}).head()"
   ]
  },
  {
   "cell_type": "code",
   "execution_count": 37,
   "metadata": {
    "collapsed": true
   },
   "outputs": [],
   "source": [
    "pd.read_csv?"
   ]
  },
  {
   "cell_type": "code",
   "execution_count": 43,
   "metadata": {
    "collapsed": false
   },
   "outputs": [],
   "source": [
    "agesex = pd.read_csv('../SF_311_Data-Analysis/data/ACS_14_5YR-AGESEX/ACS_14_5YR_B01002_with_ann.csv', header=1, skiprows=0)\n",
    "agesex = agesex.rename(columns={'Id2': 'Census.Block'}).head()"
   ]
  },
  {
   "cell_type": "code",
   "execution_count": 44,
   "metadata": {
    "collapsed": false
   },
   "outputs": [
    {
     "data": {
      "text/html": [
       "<div>\n",
       "<table border=\"1\" class=\"dataframe\">\n",
       "  <thead>\n",
       "    <tr style=\"text-align: right;\">\n",
       "      <th></th>\n",
       "      <th>Id</th>\n",
       "      <th>Census.Block</th>\n",
       "      <th>Geography</th>\n",
       "      <th>Estimate; Median age -- - Total:</th>\n",
       "      <th>Margin of Error; Median age -- - Total:</th>\n",
       "      <th>Estimate; Median age -- - Male</th>\n",
       "      <th>Margin of Error; Median age -- - Male</th>\n",
       "      <th>Estimate; Median age -- - Female</th>\n",
       "      <th>Margin of Error; Median age -- - Female</th>\n",
       "    </tr>\n",
       "  </thead>\n",
       "  <tbody>\n",
       "    <tr>\n",
       "      <th>0</th>\n",
       "      <td>1500000US060750101001</td>\n",
       "      <td>60750101001</td>\n",
       "      <td>Block Group 1, Census Tract 101, San Francisco...</td>\n",
       "      <td>33.6</td>\n",
       "      <td>1.8</td>\n",
       "      <td>33.3</td>\n",
       "      <td>3.2</td>\n",
       "      <td>33.8</td>\n",
       "      <td>2.8</td>\n",
       "    </tr>\n",
       "    <tr>\n",
       "      <th>1</th>\n",
       "      <td>1500000US060750101002</td>\n",
       "      <td>60750101002</td>\n",
       "      <td>Block Group 2, Census Tract 101, San Francisco...</td>\n",
       "      <td>40.9</td>\n",
       "      <td>4.6</td>\n",
       "      <td>33.6</td>\n",
       "      <td>8.9</td>\n",
       "      <td>56.8</td>\n",
       "      <td>11.6</td>\n",
       "    </tr>\n",
       "    <tr>\n",
       "      <th>2</th>\n",
       "      <td>1500000US060750102001</td>\n",
       "      <td>60750102001</td>\n",
       "      <td>Block Group 1, Census Tract 102, San Francisco...</td>\n",
       "      <td>47.3</td>\n",
       "      <td>4.0</td>\n",
       "      <td>47.7</td>\n",
       "      <td>2.7</td>\n",
       "      <td>43.2</td>\n",
       "      <td>14.1</td>\n",
       "    </tr>\n",
       "    <tr>\n",
       "      <th>3</th>\n",
       "      <td>1500000US060750102002</td>\n",
       "      <td>60750102002</td>\n",
       "      <td>Block Group 2, Census Tract 102, San Francisco...</td>\n",
       "      <td>34.8</td>\n",
       "      <td>3.3</td>\n",
       "      <td>32.7</td>\n",
       "      <td>1.2</td>\n",
       "      <td>36.7</td>\n",
       "      <td>7.1</td>\n",
       "    </tr>\n",
       "    <tr>\n",
       "      <th>4</th>\n",
       "      <td>1500000US060750102003</td>\n",
       "      <td>60750102003</td>\n",
       "      <td>Block Group 3, Census Tract 102, San Francisco...</td>\n",
       "      <td>46.9</td>\n",
       "      <td>6.4</td>\n",
       "      <td>46.7</td>\n",
       "      <td>6.9</td>\n",
       "      <td>49.4</td>\n",
       "      <td>16.3</td>\n",
       "    </tr>\n",
       "  </tbody>\n",
       "</table>\n",
       "</div>"
      ],
      "text/plain": [
       "                      Id  Census.Block  \\\n",
       "0  1500000US060750101001   60750101001   \n",
       "1  1500000US060750101002   60750101002   \n",
       "2  1500000US060750102001   60750102001   \n",
       "3  1500000US060750102002   60750102002   \n",
       "4  1500000US060750102003   60750102003   \n",
       "\n",
       "                                           Geography  \\\n",
       "0  Block Group 1, Census Tract 101, San Francisco...   \n",
       "1  Block Group 2, Census Tract 101, San Francisco...   \n",
       "2  Block Group 1, Census Tract 102, San Francisco...   \n",
       "3  Block Group 2, Census Tract 102, San Francisco...   \n",
       "4  Block Group 3, Census Tract 102, San Francisco...   \n",
       "\n",
       "  Estimate; Median age -- - Total: Margin of Error; Median age -- - Total:  \\\n",
       "0                             33.6                                     1.8   \n",
       "1                             40.9                                     4.6   \n",
       "2                             47.3                                     4.0   \n",
       "3                             34.8                                     3.3   \n",
       "4                             46.9                                     6.4   \n",
       "\n",
       "  Estimate; Median age -- - Male Margin of Error; Median age -- - Male  \\\n",
       "0                           33.3                                   3.2   \n",
       "1                           33.6                                   8.9   \n",
       "2                           47.7                                   2.7   \n",
       "3                           32.7                                   1.2   \n",
       "4                           46.7                                   6.9   \n",
       "\n",
       "  Estimate; Median age -- - Female Margin of Error; Median age -- - Female  \n",
       "0                             33.8                                     2.8  \n",
       "1                             56.8                                    11.6  \n",
       "2                             43.2                                    14.1  \n",
       "3                             36.7                                     7.1  \n",
       "4                             49.4                                    16.3  "
      ]
     },
     "execution_count": 44,
     "metadata": {},
     "output_type": "execute_result"
    }
   ],
   "source": [
    "agesex.head()"
   ]
  },
  {
   "cell_type": "code",
   "execution_count": 59,
   "metadata": {
    "collapsed": false
   },
   "outputs": [
    {
     "data": {
      "text/plain": [
       "0    <class 'numpy.int64'>\n",
       "1    <class 'numpy.int64'>\n",
       "2    <class 'numpy.int64'>\n",
       "3    <class 'numpy.int64'>\n",
       "4    <class 'numpy.int64'>\n",
       "Name: Census.Block, dtype: object"
      ]
     },
     "execution_count": 59,
     "metadata": {},
     "output_type": "execute_result"
    }
   ],
   "source": [
    "agesex['Census.Block'].head().apply(type)"
   ]
  },
  {
   "cell_type": "code",
   "execution_count": 48,
   "metadata": {
    "collapsed": false,
    "scrolled": false
   },
   "outputs": [],
   "source": [
    "df = df.join(agesex[['Census.Block', 'Estimate; Median age -- - Female', 'Estimate; Median age -- - Male']],\n",
    "        on=['Census.Block'], how='left', rsuffix='_acs')"
   ]
  },
  {
   "cell_type": "code",
   "execution_count": 49,
   "metadata": {
    "collapsed": false
   },
   "outputs": [
    {
     "data": {
      "text/html": [
       "<div>\n",
       "<table border=\"1\" class=\"dataframe\">\n",
       "  <thead>\n",
       "    <tr style=\"text-align: right;\">\n",
       "      <th></th>\n",
       "      <th>Opened</th>\n",
       "      <th>Closed</th>\n",
       "      <th>Updated</th>\n",
       "      <th>Status</th>\n",
       "      <th>Status.Notes</th>\n",
       "      <th>Responsible.Agency</th>\n",
       "      <th>Category</th>\n",
       "      <th>Request.Type</th>\n",
       "      <th>Request.Details</th>\n",
       "      <th>Address</th>\n",
       "      <th>Supervisor.District</th>\n",
       "      <th>Neighborhood</th>\n",
       "      <th>Point</th>\n",
       "      <th>Source</th>\n",
       "      <th>Media.URL</th>\n",
       "      <th>Lat</th>\n",
       "      <th>Long</th>\n",
       "      <th>Census.Block</th>\n",
       "      <th>Zip</th>\n",
       "      <th>Map.Url</th>\n",
       "      <th>Census.Block_geo</th>\n",
       "      <th>Estimate; Median age -- - Female</th>\n",
       "      <th>Estimate; Median age -- - Male</th>\n",
       "    </tr>\n",
       "    <tr>\n",
       "      <th>CaseID</th>\n",
       "      <th></th>\n",
       "      <th></th>\n",
       "      <th></th>\n",
       "      <th></th>\n",
       "      <th></th>\n",
       "      <th></th>\n",
       "      <th></th>\n",
       "      <th></th>\n",
       "      <th></th>\n",
       "      <th></th>\n",
       "      <th></th>\n",
       "      <th></th>\n",
       "      <th></th>\n",
       "      <th></th>\n",
       "      <th></th>\n",
       "      <th></th>\n",
       "      <th></th>\n",
       "      <th></th>\n",
       "      <th></th>\n",
       "      <th></th>\n",
       "      <th></th>\n",
       "      <th></th>\n",
       "      <th></th>\n",
       "    </tr>\n",
       "  </thead>\n",
       "  <tbody>\n",
       "    <tr>\n",
       "      <th>1757188</th>\n",
       "      <td>2012-12-04 15:21:00</td>\n",
       "      <td>2012-12-06 04:39:00</td>\n",
       "      <td>2012-12-06 04:39:00</td>\n",
       "      <td>Closed</td>\n",
       "      <td>NaN</td>\n",
       "      <td>DPW BSM Queue</td>\n",
       "      <td>Street Defects</td>\n",
       "      <td>Utility_Excavation</td>\n",
       "      <td>Utility_Excavation</td>\n",
       "      <td>2820 GREENWICH ST, SAN FRANCISCO, CA, 94123</td>\n",
       "      <td>2</td>\n",
       "      <td>Marina</td>\n",
       "      <td>(37.797838468, -122.446243791)</td>\n",
       "      <td>Voice In</td>\n",
       "      <td>NaN</td>\n",
       "      <td>37.797838</td>\n",
       "      <td>-122.446244</td>\n",
       "      <td>60750128003</td>\n",
       "      <td>94123</td>\n",
       "      <td>http://open.mapquestapi.com/staticmap/v4/getma...</td>\n",
       "      <td>NaN</td>\n",
       "      <td>NaN</td>\n",
       "      <td>NaN</td>\n",
       "    </tr>\n",
       "    <tr>\n",
       "      <th>1834805</th>\n",
       "      <td>2012-12-30 08:39:28</td>\n",
       "      <td>2013-01-15 07:15:14</td>\n",
       "      <td>2013-01-15 07:15:14</td>\n",
       "      <td>Closed</td>\n",
       "      <td>Case Resolved -</td>\n",
       "      <td>zzRPD Urban Forestry Queue - DO NOT USE</td>\n",
       "      <td>Rec and Park Requests</td>\n",
       "      <td>Park - UrbanForestry</td>\n",
       "      <td>Broken_Limb</td>\n",
       "      <td>Park Presidio Blvd, SAN FRANCISCO, CA, 94118</td>\n",
       "      <td>1</td>\n",
       "      <td>Inner Richmond</td>\n",
       "      <td>(37.780122585, -122.4722852)</td>\n",
       "      <td>Voice In</td>\n",
       "      <td>NaN</td>\n",
       "      <td>37.780123</td>\n",
       "      <td>-122.472285</td>\n",
       "      <td>60750476001</td>\n",
       "      <td>94118</td>\n",
       "      <td>http://open.mapquestapi.com/staticmap/v4/getma...</td>\n",
       "      <td>NaN</td>\n",
       "      <td>NaN</td>\n",
       "      <td>NaN</td>\n",
       "    </tr>\n",
       "    <tr>\n",
       "      <th>3016735</th>\n",
       "      <td>2013-11-01 16:41:00</td>\n",
       "      <td>2015-04-16 04:05:00</td>\n",
       "      <td>2015-04-16 04:05:00</td>\n",
       "      <td>Closed</td>\n",
       "      <td>Case Transferred - Per process - cases are clo...</td>\n",
       "      <td>311 Service Request Queue - Hold</td>\n",
       "      <td>311 External Request</td>\n",
       "      <td>Graffiti</td>\n",
       "      <td>Graffiti - USPS</td>\n",
       "      <td>Intersection of PACIFIC AVE and WEBSTER ST</td>\n",
       "      <td>2</td>\n",
       "      <td>Pacific Heights</td>\n",
       "      <td>(37.7935575960028, -122.433088431645)</td>\n",
       "      <td>Voice In</td>\n",
       "      <td>NaN</td>\n",
       "      <td>37.793558</td>\n",
       "      <td>-122.433088</td>\n",
       "      <td>60750132001</td>\n",
       "      <td>94123</td>\n",
       "      <td>http://open.mapquestapi.com/staticmap/v4/getma...</td>\n",
       "      <td>NaN</td>\n",
       "      <td>NaN</td>\n",
       "      <td>NaN</td>\n",
       "    </tr>\n",
       "    <tr>\n",
       "      <th>2643949</th>\n",
       "      <td>2013-07-26 09:57:04</td>\n",
       "      <td>2013-08-02 12:01:03</td>\n",
       "      <td>2013-08-02 12:01:03</td>\n",
       "      <td>Closed</td>\n",
       "      <td>DPT Abandoned Vehicles- Gone on arrival - 8-2-...</td>\n",
       "      <td>DPT Abandoned Vehicles Work Queue</td>\n",
       "      <td>Abandoned Vehicle</td>\n",
       "      <td>Abandoned Vehicle - Car2door</td>\n",
       "      <td>White - Honda - NA - 6LWD681</td>\n",
       "      <td>1735 17TH AVE, SAN FRANCISCO, CA, 94122</td>\n",
       "      <td>7</td>\n",
       "      <td>NaN</td>\n",
       "      <td>(37.755495625, -122.474745239)</td>\n",
       "      <td>Voice In</td>\n",
       "      <td>NaN</td>\n",
       "      <td>37.755496</td>\n",
       "      <td>-122.474745</td>\n",
       "      <td>60750303021</td>\n",
       "      <td>94116</td>\n",
       "      <td>http://open.mapquestapi.com/staticmap/v4/getma...</td>\n",
       "      <td>NaN</td>\n",
       "      <td>NaN</td>\n",
       "      <td>NaN</td>\n",
       "    </tr>\n",
       "    <tr>\n",
       "      <th>3600300</th>\n",
       "      <td>2014-04-30 14:52:36</td>\n",
       "      <td>2014-04-30 15:49:58</td>\n",
       "      <td>2014-04-30 15:49:58</td>\n",
       "      <td>Closed</td>\n",
       "      <td>Case Completed - resolved: WASTE NOT FOUND</td>\n",
       "      <td>Recology_Abandoned</td>\n",
       "      <td>Street and Sidewalk Cleaning</td>\n",
       "      <td>General Cleaning</td>\n",
       "      <td>Other Loose Garbage</td>\n",
       "      <td>549 LOMBARD ST, SAN FRANCISCO, CA, 94133</td>\n",
       "      <td>3</td>\n",
       "      <td>North Beach</td>\n",
       "      <td>(37.803081142313, -122.410557299769)</td>\n",
       "      <td>Voice In</td>\n",
       "      <td>NaN</td>\n",
       "      <td>37.803081</td>\n",
       "      <td>-122.410557</td>\n",
       "      <td>60750104002</td>\n",
       "      <td>94133</td>\n",
       "      <td>http://open.mapquestapi.com/staticmap/v4/getma...</td>\n",
       "      <td>NaN</td>\n",
       "      <td>NaN</td>\n",
       "      <td>NaN</td>\n",
       "    </tr>\n",
       "  </tbody>\n",
       "</table>\n",
       "</div>"
      ],
      "text/plain": [
       "                     Opened              Closed             Updated  Status  \\\n",
       "CaseID                                                                        \n",
       "1757188 2012-12-04 15:21:00 2012-12-06 04:39:00 2012-12-06 04:39:00  Closed   \n",
       "1834805 2012-12-30 08:39:28 2013-01-15 07:15:14 2013-01-15 07:15:14  Closed   \n",
       "3016735 2013-11-01 16:41:00 2015-04-16 04:05:00 2015-04-16 04:05:00  Closed   \n",
       "2643949 2013-07-26 09:57:04 2013-08-02 12:01:03 2013-08-02 12:01:03  Closed   \n",
       "3600300 2014-04-30 14:52:36 2014-04-30 15:49:58 2014-04-30 15:49:58  Closed   \n",
       "\n",
       "                                              Status.Notes  \\\n",
       "CaseID                                                       \n",
       "1757188                                                NaN   \n",
       "1834805                                    Case Resolved -   \n",
       "3016735  Case Transferred - Per process - cases are clo...   \n",
       "2643949  DPT Abandoned Vehicles- Gone on arrival - 8-2-...   \n",
       "3600300         Case Completed - resolved: WASTE NOT FOUND   \n",
       "\n",
       "                              Responsible.Agency  \\\n",
       "CaseID                                             \n",
       "1757188                            DPW BSM Queue   \n",
       "1834805  zzRPD Urban Forestry Queue - DO NOT USE   \n",
       "3016735         311 Service Request Queue - Hold   \n",
       "2643949        DPT Abandoned Vehicles Work Queue   \n",
       "3600300                       Recology_Abandoned   \n",
       "\n",
       "                             Category                  Request.Type  \\\n",
       "CaseID                                                                \n",
       "1757188                Street Defects            Utility_Excavation   \n",
       "1834805         Rec and Park Requests          Park - UrbanForestry   \n",
       "3016735          311 External Request                      Graffiti   \n",
       "2643949             Abandoned Vehicle  Abandoned Vehicle - Car2door   \n",
       "3600300  Street and Sidewalk Cleaning              General Cleaning   \n",
       "\n",
       "                      Request.Details  \\\n",
       "CaseID                                  \n",
       "1757188            Utility_Excavation   \n",
       "1834805                   Broken_Limb   \n",
       "3016735               Graffiti - USPS   \n",
       "2643949  White - Honda - NA - 6LWD681   \n",
       "3600300           Other Loose Garbage   \n",
       "\n",
       "                                              Address  Supervisor.District  \\\n",
       "CaseID                                                                       \n",
       "1757188   2820 GREENWICH ST, SAN FRANCISCO, CA, 94123                    2   \n",
       "1834805  Park Presidio Blvd, SAN FRANCISCO, CA, 94118                    1   \n",
       "3016735    Intersection of PACIFIC AVE and WEBSTER ST                    2   \n",
       "2643949       1735 17TH AVE, SAN FRANCISCO, CA, 94122                    7   \n",
       "3600300      549 LOMBARD ST, SAN FRANCISCO, CA, 94133                    3   \n",
       "\n",
       "            Neighborhood                                  Point    Source  \\\n",
       "CaseID                                                                      \n",
       "1757188           Marina         (37.797838468, -122.446243791)  Voice In   \n",
       "1834805   Inner Richmond           (37.780122585, -122.4722852)  Voice In   \n",
       "3016735  Pacific Heights  (37.7935575960028, -122.433088431645)  Voice In   \n",
       "2643949              NaN         (37.755495625, -122.474745239)  Voice In   \n",
       "3600300      North Beach   (37.803081142313, -122.410557299769)  Voice In   \n",
       "\n",
       "        Media.URL        Lat        Long  Census.Block    Zip  \\\n",
       "CaseID                                                          \n",
       "1757188       NaN  37.797838 -122.446244   60750128003  94123   \n",
       "1834805       NaN  37.780123 -122.472285   60750476001  94118   \n",
       "3016735       NaN  37.793558 -122.433088   60750132001  94123   \n",
       "2643949       NaN  37.755496 -122.474745   60750303021  94116   \n",
       "3600300       NaN  37.803081 -122.410557   60750104002  94133   \n",
       "\n",
       "                                                   Map.Url  Census.Block_geo  \\\n",
       "CaseID                                                                         \n",
       "1757188  http://open.mapquestapi.com/staticmap/v4/getma...               NaN   \n",
       "1834805  http://open.mapquestapi.com/staticmap/v4/getma...               NaN   \n",
       "3016735  http://open.mapquestapi.com/staticmap/v4/getma...               NaN   \n",
       "2643949  http://open.mapquestapi.com/staticmap/v4/getma...               NaN   \n",
       "3600300  http://open.mapquestapi.com/staticmap/v4/getma...               NaN   \n",
       "\n",
       "        Estimate; Median age -- - Female Estimate; Median age -- - Male  \n",
       "CaseID                                                                   \n",
       "1757188                              NaN                            NaN  \n",
       "1834805                              NaN                            NaN  \n",
       "3016735                              NaN                            NaN  \n",
       "2643949                              NaN                            NaN  \n",
       "3600300                              NaN                            NaN  "
      ]
     },
     "execution_count": 49,
     "metadata": {},
     "output_type": "execute_result"
    }
   ],
   "source": [
    "df.head()"
   ]
  },
  {
   "cell_type": "code",
   "execution_count": 52,
   "metadata": {
    "collapsed": false
   },
   "outputs": [
    {
     "data": {
      "text/plain": [
       "(4985, 23)"
      ]
     },
     "execution_count": 52,
     "metadata": {},
     "output_type": "execute_result"
    }
   ],
   "source": [
    "df.shape"
   ]
  },
  {
   "cell_type": "code",
   "execution_count": 51,
   "metadata": {
    "collapsed": false
   },
   "outputs": [
    {
     "data": {
      "text/plain": [
       "4985"
      ]
     },
     "execution_count": 51,
     "metadata": {},
     "output_type": "execute_result"
    }
   ],
   "source": [
    "df['Census.Block_geo'].isnull().sum()"
   ]
  },
  {
   "cell_type": "code",
   "execution_count": 8,
   "metadata": {
    "collapsed": false,
    "scrolled": true
   },
   "outputs": [
    {
     "data": {
      "text/plain": [
       "(1957, 23)"
      ]
     },
     "execution_count": 8,
     "metadata": {},
     "output_type": "execute_result"
    }
   ],
   "source": [
    "df[(df['Opened'] > '2014-01-01') & (df['Opened'] < '2016-01-01')].shape"
   ]
  },
  {
   "cell_type": "code",
   "execution_count": null,
   "metadata": {
    "collapsed": true
   },
   "outputs": [],
   "source": []
  }
 ],
 "metadata": {
  "kernelspec": {
   "display_name": "Python 3",
   "language": "python",
   "name": "python3"
  },
  "language_info": {
   "codemirror_mode": {
    "name": "ipython",
    "version": 3
   },
   "file_extension": ".py",
   "mimetype": "text/x-python",
   "name": "python",
   "nbconvert_exporter": "python",
   "pygments_lexer": "ipython3",
   "version": "3.5.1"
  }
 },
 "nbformat": 4,
 "nbformat_minor": 0
}
